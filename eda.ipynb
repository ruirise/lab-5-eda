{
 "cells": [
  {
   "cell_type": "code",
   "execution_count": 8,
   "id": "ffcd787d",
   "metadata": {},
   "outputs": [
    {
     "data": {
      "text/html": [
       "<div>\n",
       "<style scoped>\n",
       "    .dataframe tbody tr th:only-of-type {\n",
       "        vertical-align: middle;\n",
       "    }\n",
       "\n",
       "    .dataframe tbody tr th {\n",
       "        vertical-align: top;\n",
       "    }\n",
       "\n",
       "    .dataframe thead th {\n",
       "        text-align: right;\n",
       "    }\n",
       "</style>\n",
       "<table border=\"1\" class=\"dataframe\">\n",
       "  <thead>\n",
       "    <tr style=\"text-align: right;\">\n",
       "      <th></th>\n",
       "      <th>student_id</th>\n",
       "      <th>age</th>\n",
       "      <th>gpa</th>\n",
       "      <th>gender</th>\n",
       "      <th>major</th>\n",
       "      <th>year</th>\n",
       "    </tr>\n",
       "  </thead>\n",
       "  <tbody>\n",
       "    <tr>\n",
       "      <th>0</th>\n",
       "      <td>1</td>\n",
       "      <td>14</td>\n",
       "      <td>NaN</td>\n",
       "      <td>F</td>\n",
       "      <td>Economics</td>\n",
       "      <td>freshman</td>\n",
       "    </tr>\n",
       "    <tr>\n",
       "      <th>1</th>\n",
       "      <td>2</td>\n",
       "      <td>17</td>\n",
       "      <td>2.92</td>\n",
       "      <td>M</td>\n",
       "      <td>History</td>\n",
       "      <td>senior</td>\n",
       "    </tr>\n",
       "    <tr>\n",
       "      <th>2</th>\n",
       "      <td>3</td>\n",
       "      <td>17</td>\n",
       "      <td>2.97</td>\n",
       "      <td>F</td>\n",
       "      <td>Physics</td>\n",
       "      <td>senior</td>\n",
       "    </tr>\n",
       "    <tr>\n",
       "      <th>3</th>\n",
       "      <td>4</td>\n",
       "      <td>16</td>\n",
       "      <td>2.76</td>\n",
       "      <td>F</td>\n",
       "      <td>Physics</td>\n",
       "      <td>junior</td>\n",
       "    </tr>\n",
       "    <tr>\n",
       "      <th>4</th>\n",
       "      <td>5</td>\n",
       "      <td>16</td>\n",
       "      <td>2.24</td>\n",
       "      <td>M</td>\n",
       "      <td>Chemistry</td>\n",
       "      <td>junior</td>\n",
       "    </tr>\n",
       "  </tbody>\n",
       "</table>\n",
       "</div>"
      ],
      "text/plain": [
       "   student_id  age   gpa gender      major      year\n",
       "0           1   14   NaN      F  Economics  freshman\n",
       "1           2   17  2.92      M    History    senior\n",
       "2           3   17  2.97      F    Physics    senior\n",
       "3           4   16  2.76      F    Physics    junior\n",
       "4           5   16  2.24      M  Chemistry    junior"
      ]
     },
     "execution_count": 8,
     "metadata": {},
     "output_type": "execute_result"
    }
   ],
   "source": [
    "import pandas as pd\n",
    "df = pd.read_csv(\"data/students (1).csv\")\n",
    "df.head()"
   ]
  },
  {
   "cell_type": "code",
   "execution_count": 10,
   "id": "11553436",
   "metadata": {},
   "outputs": [
    {
     "name": "stdout",
     "output_type": "stream",
     "text": [
      "<class 'pandas.core.frame.DataFrame'>\n",
      "RangeIndex: 100 entries, 0 to 99\n",
      "Data columns (total 6 columns):\n",
      " #   Column      Non-Null Count  Dtype  \n",
      "---  ------      --------------  -----  \n",
      " 0   student_id  100 non-null    int64  \n",
      " 1   age         100 non-null    int64  \n",
      " 2   gpa         90 non-null     float64\n",
      " 3   gender      100 non-null    object \n",
      " 4   major       95 non-null     object \n",
      " 5   year        100 non-null    object \n",
      "dtypes: float64(1), int64(2), object(3)\n",
      "memory usage: 4.8+ KB\n"
     ]
    },
    {
     "data": {
      "text/plain": [
       "student_id     0\n",
       "age            0\n",
       "gpa           10\n",
       "gender         0\n",
       "major          5\n",
       "year           0\n",
       "dtype: int64"
      ]
     },
     "execution_count": 10,
     "metadata": {},
     "output_type": "execute_result"
    }
   ],
   "source": [
    "df.info()\n",
    "df.isna().sum()"
   ]
  },
  {
   "cell_type": "markdown",
   "id": "e51ec799",
   "metadata": {},
   "source": [
    "The most common is gpa, which could be that maybe some freshman do not have enough grades to compute a gpa yet. Additionally, some might not have any idea what their major might be. "
   ]
  },
  {
   "cell_type": "code",
   "execution_count": 21,
   "id": "d2f32d11",
   "metadata": {},
   "outputs": [
    {
     "data": {
      "text/html": [
       "<div>\n",
       "<style scoped>\n",
       "    .dataframe tbody tr th:only-of-type {\n",
       "        vertical-align: middle;\n",
       "    }\n",
       "\n",
       "    .dataframe tbody tr th {\n",
       "        vertical-align: top;\n",
       "    }\n",
       "\n",
       "    .dataframe thead th {\n",
       "        text-align: right;\n",
       "    }\n",
       "</style>\n",
       "<table border=\"1\" class=\"dataframe\">\n",
       "  <thead>\n",
       "    <tr style=\"text-align: right;\">\n",
       "      <th></th>\n",
       "      <th>count</th>\n",
       "      <th>mean</th>\n",
       "      <th>median</th>\n",
       "      <th>variance</th>\n",
       "      <th>SD</th>\n",
       "      <th>min</th>\n",
       "      <th>max</th>\n",
       "    </tr>\n",
       "  </thead>\n",
       "  <tbody>\n",
       "    <tr>\n",
       "      <th>age</th>\n",
       "      <td>100</td>\n",
       "      <td>16.130000</td>\n",
       "      <td>16.000</td>\n",
       "      <td>1.892020</td>\n",
       "      <td>1.375507</td>\n",
       "      <td>14.00</td>\n",
       "      <td>18.00</td>\n",
       "    </tr>\n",
       "    <tr>\n",
       "      <th>gpa</th>\n",
       "      <td>90</td>\n",
       "      <td>2.624667</td>\n",
       "      <td>2.665</td>\n",
       "      <td>0.227432</td>\n",
       "      <td>0.476898</td>\n",
       "      <td>1.63</td>\n",
       "      <td>3.93</td>\n",
       "    </tr>\n",
       "  </tbody>\n",
       "</table>\n",
       "</div>"
      ],
      "text/plain": [
       "     count       mean  median  variance        SD    min    max\n",
       "age    100  16.130000  16.000  1.892020  1.375507  14.00  18.00\n",
       "gpa     90   2.624667   2.665  0.227432  0.476898   1.63   3.93"
      ]
     },
     "execution_count": 21,
     "metadata": {},
     "output_type": "execute_result"
    }
   ],
   "source": [
    "import numpy as np\n",
    "age_dict = {}\n",
    "gpa_dict = {} \n",
    "age_dict[\"count\"] = df['age'].count()\n",
    "gpa_dict[\"count\"] = df['gpa'].count()\n",
    "gpa_dict[\"mean\"] = df['gpa'].mean()\n",
    "age_dict[\"mean\"] = df['age'].mean()\n",
    "age_dict[\"median\"] = df['age'].median()\n",
    "gpa_dict[\"median\"] = df['gpa'].median()\n",
    "age_dict[\"variance\"] = df['age'].var()\n",
    "gpa_dict[\"variance\"] = df['gpa'].var()\n",
    "age_dict[\"SD\"] = df['age'].std()\n",
    "gpa_dict[\"SD\"] = df['gpa'].std()\n",
    "age_dict[\"min\"] = df['age'].min()\n",
    "gpa_dict[\"min\"] = df['gpa'].min()\n",
    "age_dict[\"max\"] = df['age'].max()\n",
    "gpa_dict[\"max\"] = df['gpa'].max()\n",
    "df_comb = {\"age\":age_dict,\"gpa\":gpa_dict}\n",
    "#print(df_comb)\n",
    "summary = pd.DataFrame.from_dict(df_comb, orient='index')\n",
    "summary.head()"
   ]
  },
  {
   "cell_type": "code",
   "execution_count": 24,
   "id": "8f2a16f5",
   "metadata": {},
   "outputs": [
    {
     "data": {
      "text/plain": [
       "<Axes: >"
      ]
     },
     "execution_count": 24,
     "metadata": {},
     "output_type": "execute_result"
    },
    {
     "data": {
      "image/png": "[encoded data removed]",
      "text/plain": [
       "<Figure size 640x480 with 1 Axes>"
      ]
     },
     "metadata": {},
     "output_type": "display_data"
    }
   ],
   "source": [
    "df['age'].hist(bins=range(14, 19), align='left', rwidth=0.8)"
   ]
  },
  {
   "cell_type": "code",
   "execution_count": 25,
   "id": "7a07fd04",
   "metadata": {},
   "outputs": [
    {
     "data": {
      "text/plain": [
       "<Axes: xlabel='gpa', ylabel='Count'>"
      ]
     },
     "execution_count": 25,
     "metadata": {},
     "output_type": "execute_result"
    },
    {
     "data": {
      "image/png": "[encoded data removed]",
      "text/plain": [
       "<Figure size 640x480 with 1 Axes>"
      ]
     },
     "metadata": {},
     "output_type": "display_data"
    }
   ],
   "source": [
    "import seaborn as sns\n",
    "sns.histplot(df[\"gpa\"], kde=True)"
   ]
  },
  {
   "cell_type": "markdown",
   "id": "cd9683ad",
   "metadata": {},
   "source": [
    "There seems to be skew to the right for the gpa, and there seems to be a skew to the left for the age distribution"
   ]
  },
  {
   "cell_type": "code",
   "execution_count": 30,
   "id": "2b97575c",
   "metadata": {},
   "outputs": [
    {
     "data": {
      "text/plain": [
       "<Axes: xlabel='gpa', ylabel='age'>"
      ]
     },
     "execution_count": 30,
     "metadata": {},
     "output_type": "execute_result"
    },
    {
     "data": {
      "image/png": "[encoded data removed]",
      "text/plain": [
       "<Figure size 640x480 with 1 Axes>"
      ]
     },
     "metadata": {},
     "output_type": "display_data"
    }
   ],
   "source": [
    "sns.scatterplot(df, x = 'gpa', y = 'age')"
   ]
  },
  {
   "cell_type": "markdown",
   "id": "c9c602ff",
   "metadata": {},
   "source": [
    "In this data, it seems to be that gpa is positively correlated with age"
   ]
  },
  {
   "cell_type": "code",
   "execution_count": null,
   "id": "7a7a131b",
   "metadata": {},
   "outputs": [],
   "source": []
  }
 ],
 "metadata": {
  "kernelspec": {
   "display_name": "lab_5",
   "language": "python",
   "name": "python3"
  },
  "language_info": {
   "codemirror_mode": {
    "name": "ipython",
    "version": 3
   },
   "file_extension": ".py",
   "mimetype": "text/x-python",
   "name": "python",
   "nbconvert_exporter": "python",
   "pygments_lexer": "ipython3",
   "version": "3.13.5"
  }
 },
 "nbformat": 4,
 "nbformat_minor": 5
}
